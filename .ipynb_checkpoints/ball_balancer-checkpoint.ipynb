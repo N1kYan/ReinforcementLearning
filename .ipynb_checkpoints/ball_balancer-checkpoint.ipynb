{
 "cells": [
  {
   "cell_type": "code",
   "execution_count": 5,
   "metadata": {},
   "outputs": [],
   "source": [
    "# Imports\n",
    "import gym\n",
    "import quanser_robots\n",
    "import numpy as np"
   ]
  },
  {
   "cell_type": "code",
   "execution_count": 6,
   "metadata": {},
   "outputs": [
    {
     "name": "stdout",
     "output_type": "stream",
     "text": [
      "time step:   0  |  in bounds: 1  |  state: [ 0.     0.     0.097 -0.023  0.     0.    -0.007  0.02 ]  |  action: None\n"
     ]
    },
    {
     "data": {
      "text/html": [
       "<div id=\"glowscript\" class=\"glowscript\"></div>"
      ],
      "text/plain": [
       "<IPython.core.display.HTML object>"
      ]
     },
     "metadata": {},
     "output_type": "display_data"
    },
    {
     "data": {
      "application/javascript": [
       "if (typeof Jupyter !== \"undefined\") { window.__context = { glowscript_container: $(\"#glowscript\").removeAttr(\"id\")};}else{ element.textContent = ' ';}"
      ],
      "text/plain": [
       "<IPython.core.display.Javascript object>"
      ]
     },
     "metadata": {},
     "output_type": "display_data"
    },
    {
     "name": "stdout",
     "output_type": "stream",
     "text": [
      "time step:  10  |  in bounds: 1  |  state: [-0.189  0.135  0.097 -0.022 -1.673  2.532 -0.008  0.012]  |  action: [1.832 3.212]\n",
      "time step:  20  |  in bounds: 1  |  state: [-0.18   0.137  0.095 -0.021 -3.415  3.136 -0.012  0.016]  |  action: [-4.736  4.521]\n",
      "time step:  30  |  in bounds: 1  |  state: [-0.313  0.204  0.093 -0.019 -2.498  1.779 -0.019  0.02 ]  |  action: [0.    2.939]\n",
      "time step:  40  |  in bounds: 1  |  state: [-0.206  0.255  0.091 -0.017  2.784  0.366 -0.03   0.024]  |  action: [2.582 1.338]\n",
      "time step:  50  |  in bounds: 1  |  state: [-0.126  0.278  0.088 -0.015  1.773  0.835 -0.02   0.028]  |  action: [4.019 3.584]\n",
      "time step:  60  |  in bounds: 1  |  state: [ 0.072  0.237  0.087 -0.012  0.095  2.391 -0.004  0.028]  |  action: [-3.219  4.729]\n",
      "time step:  70  |  in bounds: 1  |  state: [ 0.127  0.462  0.087 -0.009 -0.264 -0.32   0.007  0.035]  |  action: [-2.525 -1.85 ]\n",
      "time step:  80  |  in bounds: 1  |  state: [ 0.128  0.368  0.088 -0.005  1.189  3.548  0.009  0.042]  |  action: [2.188 4.428]\n",
      "time step:  90  |  in bounds: 1  |  state: [-0.088  0.488  0.089 -0.001  0.185  2.346  0.003  0.046]  |  action: [2.926 2.733]\n",
      "time step: 100  |  in bounds: 1  |  state: [-0.015  0.631  0.089  0.004  1.982  2.219 -0.005  0.057]  |  action: [4.958 3.172]\n",
      "time step: 110  |  in bounds: 1  |  state: [ 0.239  0.666  0.089  0.01   2.783 -0.249  0.009  0.065]  |  action: [ 2.953 -1.102]\n",
      "time step: 120  |  in bounds: 1  |  state: [ 0.426  0.472  0.091  0.017 -0.056  0.401  0.033  0.06 ]  |  action: [-1.821  1.142]\n",
      "time step: 130  |  in bounds: 1  |  state: [0.587 0.598 0.095 0.022 0.356 1.16  0.048 0.054]  |  action: [-2.117 -2.086]\n",
      "time step: 140  |  in bounds: 1  |  state: [0.556 0.673 0.101 0.028 0.229 0.46  0.057 0.063]  |  action: [2.384 0.882]\n",
      "time step: 150  |  in bounds: 1  |  state: [ 0.494  0.697  0.106  0.035  0.929 -0.439  0.055  0.068]  |  action: [ 3.035 -0.283]\n",
      "time step: 160  |  in bounds: 1  |  state: [ 0.566  0.529  0.112  0.041  0.686 -0.26   0.057  0.065]  |  action: [3.36  1.462]\n",
      "time step: 170  |  in bounds: 1  |  state: [ 0.533  0.33   0.118  0.047 -0.465 -2.535  0.057  0.05 ]  |  action: [ 0.376 -3.016]\n",
      "time step: 180  |  in bounds: 1  |  state: [ 0.44   0.078  0.123  0.051  0.259 -1.905  0.052  0.029]  |  action: [ 3.818 -1.308]\n",
      "time step: 190  |  in bounds: 1  |  state: [ 0.468 -0.006  0.128  0.053 -3.018 -2.592  0.055  0.009]  |  action: [-4.949 -3.137]\n",
      "time step: 200  |  in bounds: 1  |  state: [ 0.458  0.009  0.134  0.054 -0.619 -0.47   0.05   0.007]  |  action: [-2.656  0.928]\n",
      "time step: 210  |  in bounds: 1  |  state: [ 0.593 -0.063  0.139  0.054  1.155  2.539  0.055  0.001]  |  action: [2.015 3.463]\n",
      "time step: 220  |  in bounds: 1  |  state: [ 0.649  0.074  0.145  0.054 -0.4   -0.427  0.062 -0.001]  |  action: [-1.91  -4.304]\n",
      "-- Done: out of bounds!\n",
      "min state :  [ -0.785  -0.785  -0.15   -0.15  -12.566 -12.566  -0.5    -0.5  ]\n",
      "last state:  [ 0.511  0.094  0.15   0.054 -0.358 -2.351  0.061  0.006]\n",
      "max state :  [ 0.785  0.785  0.15   0.15  12.566 12.566  0.5    0.5  ]\n"
     ]
    }
   ],
   "source": [
    "# Create environment\n",
    "env = gym.make('BallBalancerSim-v0')\n",
    "env.reset()\n",
    "\n",
    "for _ in range(1000):\n",
    "    env.render()\n",
    "    # Action is of shape (2,) containing voltage commands for the x and y axes of the servo\n",
    "    # Ranged from -5 to 5 \n",
    "    action = env.action_space.sample()\n",
    "    observation, reward, done, info = env.step(action)\n",
    "    if done:\n",
    "        break\n",
    "\n",
    "env.close()"
   ]
  },
  {
   "cell_type": "code",
   "execution_count": null,
   "metadata": {},
   "outputs": [],
   "source": []
  },
  {
   "cell_type": "code",
   "execution_count": null,
   "metadata": {},
   "outputs": [],
   "source": []
  },
  {
   "cell_type": "code",
   "execution_count": null,
   "metadata": {},
   "outputs": [],
   "source": []
  }
 ],
 "metadata": {
  "kernelspec": {
   "display_name": "Python 3",
   "language": "python",
   "name": "python3"
  },
  "language_info": {
   "codemirror_mode": {
    "name": "ipython",
    "version": 3
   },
   "file_extension": ".py",
   "mimetype": "text/x-python",
   "name": "python",
   "nbconvert_exporter": "python",
   "pygments_lexer": "ipython3",
   "version": "3.6.6"
  }
 },
 "nbformat": 4,
 "nbformat_minor": 2
}
