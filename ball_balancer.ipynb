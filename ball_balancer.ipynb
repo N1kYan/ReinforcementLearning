{
 "cells": [
  {
   "cell_type": "code",
   "execution_count": 7,
   "metadata": {},
   "outputs": [],
   "source": [
    "# Imports\n",
    "import gym\n",
    "import quanser_robots\n",
    "import numpy as np"
   ]
  },
  {
   "cell_type": "code",
   "execution_count": 8,
   "metadata": {},
   "outputs": [
    {
     "name": "stdout",
     "output_type": "stream",
     "text": [
      "time step:   0  |  in bounds: 1  |  state: [ 0.     0.     0.007 -0.108  0.     0.    -0.022  0.014]  |  action: None\n"
     ]
    },
    {
     "data": {
      "text/html": [
       "<div id=\"glowscript\" class=\"glowscript\"></div>"
      ],
      "text/plain": [
       "<IPython.core.display.HTML object>"
      ]
     },
     "metadata": {},
     "output_type": "display_data"
    },
    {
     "data": {
      "application/javascript": [
       "if (typeof Jupyter !== \"undefined\") { window.__context = { glowscript_container: $(\"#glowscript\").removeAttr(\"id\")};}else{ element.textContent = ' ';}"
      ],
      "text/plain": [
       "<IPython.core.display.Javascript object>"
      ]
     },
     "metadata": {},
     "output_type": "display_data"
    },
    {
     "name": "stdout",
     "output_type": "stream",
     "text": [
      "time step:  10  |  in bounds: 1  |  state: [ 0.256 -0.023  0.007 -0.108  3.681 -2.318  0.004  0.002]  |  action: [ 4.622 -3.938]\n",
      "time step:  20  |  in bounds: 1  |  state: [ 0.403 -0.225  0.009 -0.108  2.845 -2.339  0.026 -0.013]  |  action: [ 0.89  -2.434]\n",
      "time step:  30  |  in bounds: 1  |  state: [ 0.456 -0.175  0.012 -0.11   2.101  2.38   0.038 -0.019]  |  action: [3.049 4.586]\n",
      "time step:  40  |  in bounds: 1  |  state: [ 0.441 -0.275  0.016 -0.112 -2.835 -1.72   0.048 -0.025]  |  action: [-4.62  -3.716]\n",
      "time step:  50  |  in bounds: 1  |  state: [ 0.145 -0.126  0.021 -0.115 -2.271  1.674  0.032 -0.021]  |  action: [-2.657  1.986]\n",
      "time step:  60  |  in bounds: 1  |  state: [ 0.112 -0.016  0.023 -0.116  3.022 -0.075  0.012 -0.015]  |  action: [ 3.164 -3.339]\n",
      "time step:  70  |  in bounds: 1  |  state: [ 0.165 -0.059  0.024 -0.117  4.473  2.696  0.008 -0.007]  |  action: [4.529 4.146]\n",
      "time step:  80  |  in bounds: 1  |  state: [ 0.067 -0.096  0.026 -0.118 -0.82  -0.901  0.014 -0.008]  |  action: [-2.395  0.599]\n",
      "time step:  90  |  in bounds: 1  |  state: [ 0.047 -0.05   0.027 -0.119  2.27   0.583  0.003 -0.008]  |  action: [2.835 1.102]\n",
      "time step: 100  |  in bounds: 1  |  state: [ 0.134 -0.17   0.027 -0.12   0.623 -3.942  0.01  -0.013]  |  action: [-1.581 -4.232]\n",
      "time step: 110  |  in bounds: 1  |  state: [ 0.24  -0.064  0.029 -0.121  0.002  2.002  0.02  -0.012]  |  action: [ 1.94  -0.228]\n",
      "time step: 120  |  in bounds: 1  |  state: [ 0.217 -0.025  0.031 -0.122 -0.339 -1.254  0.024 -0.008]  |  action: [ 0.674 -2.976]\n",
      "time step: 130  |  in bounds: 1  |  state: [ 0.082  0.003  0.033 -0.123  0.745  2.202  0.014 -0.004]  |  action: [3.82 4.39]\n",
      "time step: 140  |  in bounds: 1  |  state: [ 0.032  0.099  0.034 -0.123 -2.875 -0.972  0.013  0.004]  |  action: [-3.088  0.98 ]\n",
      "time step: 150  |  in bounds: 1  |  state: [ 0.013 -0.019  0.035 -0.122 -0.469  0.231  0.007  0.006]  |  action: [2.17  0.845]\n",
      "time step: 160  |  in bounds: 1  |  state: [ 0.04  -0.01   0.035 -0.122  1.165 -2.296 -0.001 -0.003]  |  action: [-1.954 -4.863]\n",
      "time step: 170  |  in bounds: 1  |  state: [-0.055 -0.109  0.035 -0.123 -1.394  0.991 -0.    -0.003]  |  action: [-3.277  4.282]\n",
      "time step: 180  |  in bounds: 1  |  state: [-0.08  -0.145  0.035 -0.123  2.476 -1.586 -0.011 -0.013]  |  action: [ 2.474 -3.443]\n",
      "time step: 190  |  in bounds: 1  |  state: [ 0.27  -0.261  0.034 -0.125  1.166  4.075  0.009 -0.019]  |  action: [-3.148  4.558]\n",
      "time step: 200  |  in bounds: 1  |  state: [ 0.199 -0.163  0.036 -0.128 -1.994 -2.489  0.024 -0.024]  |  action: [-1.17  -1.104]\n",
      "time step: 210  |  in bounds: 1  |  state: [ 0.215 -0.125  0.039 -0.129  0.049 -0.631  0.024 -0.019]  |  action: [ 1.186 -2.912]\n",
      "time step: 220  |  in bounds: 1  |  state: [ 0.337 -0.235  0.041 -0.131  0.525  2.568  0.03  -0.017]  |  action: [-0.656  4.88 ]\n",
      "time step: 230  |  in bounds: 1  |  state: [ 0.482 -0.148  0.045 -0.133  0.415  1.78   0.042 -0.018]  |  action: [0.    4.568]\n",
      "time step: 240  |  in bounds: 1  |  state: [ 0.544 -0.335  0.049 -0.136  2.254 -0.425  0.048 -0.026]  |  action: [ 2.285 -1.636]\n",
      "time step: 250  |  in bounds: 1  |  state: [ 0.57  -0.178  0.055 -0.138  1.755  2.358  0.053 -0.025]  |  action: [0.419 1.733]\n",
      "time step: 260  |  in bounds: 1  |  state: [ 0.529 -0.013  0.06  -0.14  -1.21   2.286  0.058 -0.016]  |  action: [-1.976  2.436]\n",
      "time step: 270  |  in bounds: 1  |  state: [ 0.444  0.018  0.066 -0.141 -1.249 -0.231  0.052 -0.008]  |  action: [-3.178 -3.743]\n",
      "time step: 280  |  in bounds: 1  |  state: [ 0.512  0.022  0.071 -0.142 -2.161  1.679  0.055  0.001]  |  action: [-1.993  3.87 ]\n",
      "time step: 290  |  in bounds: 1  |  state: [ 0.533 -0.24   0.076 -0.143  1.384  2.149  0.052 -0.011]  |  action: [2.89  2.619]\n",
      "time step: 300  |  in bounds: 1  |  state: [ 0.72  -0.303  0.081 -0.145  5.17   1.296  0.056 -0.023]  |  action: [4.381 2.734]\n",
      "-- Done: out of bounds!\n",
      "min state :  [ -0.785  -0.785  -0.15   -0.15  -12.566 -12.566  -0.5    -0.5  ]\n",
      "last state:  [ 0.788 -0.415  0.088 -0.148  2.67   0.599  0.069 -0.034]\n",
      "max state :  [ 0.785  0.785  0.15   0.15  12.566 12.566  0.5    0.5  ]\n"
     ]
    }
   ],
   "source": [
    "# Create environment\n",
    "env = gym.make('BallBalancerSim-v0')\n",
    "env.reset()\n",
    "\n",
    "for _ in range(1000):\n",
    "    env.render()\n",
    "    # Action is of shape (2,) containing voltage commands for the x and y axes of the servo\n",
    "    # Ranged from -5 to 5 \n",
    "    action = env.action_space.sample()\n",
    "    observation, reward, done, info = env.step(action)\n",
    "    if done:\n",
    "        break\n",
    "\n",
    "env.close()"
   ]
  },
  {
   "cell_type": "code",
   "execution_count": null,
   "metadata": {},
   "outputs": [],
   "source": []
  },
  {
   "cell_type": "code",
   "execution_count": null,
   "metadata": {},
   "outputs": [],
   "source": []
  },
  {
   "cell_type": "code",
   "execution_count": null,
   "metadata": {},
   "outputs": [],
   "source": []
  }
 ],
 "metadata": {
  "kernelspec": {
   "display_name": "Python 3",
   "language": "python",
   "name": "python3"
  },
  "language_info": {
   "codemirror_mode": {
    "name": "ipython",
    "version": 3
   },
   "file_extension": ".py",
   "mimetype": "text/x-python",
   "name": "python",
   "nbconvert_exporter": "python",
   "pygments_lexer": "ipython3",
   "version": "3.6.6"
  }
 },
 "nbformat": 4,
 "nbformat_minor": 2
}
