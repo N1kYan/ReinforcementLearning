{
 "cells": [
  {
   "cell_type": "code",
   "execution_count": 2,
   "metadata": {},
   "outputs": [],
   "source": [
    "import numpy as np\n",
    "import gym\n",
    "import torch\n",
    "from torch.autograd import Variable\n",
    "import torch.nn.functional as F\n",
    "import time\n",
    "import matplotlib.pyplot as plt"
   ]
  },
  {
   "cell_type": "code",
   "execution_count": 3,
   "metadata": {},
   "outputs": [
    {
     "name": "stdout",
     "output_type": "stream",
     "text": [
      "[-2.]\n",
      "[-1. -1. -8.]\n"
     ]
    }
   ],
   "source": [
    "# Create gym environment\n",
    "env = gym.make('Pendulum-v0')\n",
    "env.reset()\n",
    "#action space is a Box(1,) with values between [-2,2], joint effort\n",
    "print(env.action_space.low)\n",
    "#observation space is 3d angle of pendulum cos, sin, velocity max:1,1,8; min:-1,-1,8\n",
    "print(env.observation_space.low)"
   ]
  },
  {
   "cell_type": "code",
   "execution_count": 4,
   "metadata": {},
   "outputs": [
    {
     "name": "stdout",
     "output_type": "stream",
     "text": [
      "[ 0.66891353  0.74334022 -0.71869762]\n",
      "[0.19525401]\n",
      "[ 0.67380144  0.73891246 -0.13190435] -0.75401873115036 False {}\n"
     ]
    }
   ],
   "source": [
    "#reward formular: -(theta^2 + 0.1*theta_dt^2 + 0.001*action^2) (-16.27 is worst, 0 best)\n",
    "print(env.reset())\n",
    "a = env.action_space.sample()\n",
    "print(a)\n",
    "state, reward, done, info = env.step(a)\n",
    "print(state, reward, done, info)"
   ]
  },
  {
   "cell_type": "code",
   "execution_count": 5,
   "metadata": {},
   "outputs": [],
   "source": [
    "# Learning episodes\n",
    "epochs = 10000"
   ]
  },
  {
   "cell_type": "code",
   "execution_count": 15,
   "metadata": {},
   "outputs": [
    {
     "name": "stdout",
     "output_type": "stream",
     "text": [
      "Regression...\n",
      "...done\n",
      "RandomForestRegressor(bootstrap=True, criterion='mse', max_depth=None,\n",
      "           max_features='auto', max_leaf_nodes=None,\n",
      "           min_impurity_decrease=0.0, min_impurity_split=None,\n",
      "           min_samples_leaf=1, min_samples_split=2,\n",
      "           min_weight_fraction_leaf=0.0, n_estimators=10, n_jobs=None,\n",
      "           oob_score=False, random_state=None, verbose=0, warm_start=False)\n"
     ]
    },
    {
     "data": {
      "image/png": "[encoded data removed]",
      "text/plain": [
       "<Figure size 432x288 with 1 Axes>"
      ]
     },
     "metadata": {
      "needs_background": "light"
     },
     "output_type": "display_data"
    }
   ],
   "source": [
    "\"\"\"\n",
    "    Regression of old state and performed action to new state and observed reward.\n",
    "\"\"\"\n",
    "\n",
    "from sklearn.gaussian_process import GaussianProcessRegressor\n",
    "from sklearn.ensemble import RandomForestRegressor\n",
    "from sklearn.metrics import mean_squared_error\n",
    "\n",
    "\n",
    "rtx = []\n",
    "rty = []\n",
    "stx = []\n",
    "sty = []\n",
    "plotr = []\n",
    "plots = []\n",
    "\n",
    "regressorReward = RandomForestRegressor(n_estimators=10, min_samples_split=2)\n",
    "regressorState = RandomForestRegressor(n_estimators=10, min_samples_split=2)\n",
    "\n",
    "print(\"Regression...\")\n",
    "for i in range(epochs):\n",
    "    observation = env.reset() # do we really need to call this every episode?\n",
    "\n",
    "    action = env.action_space.sample()\n",
    "    state, reward, done, info = env.step(action)\n",
    "    rtx.append(np.append(observation,action))\n",
    "    rty.append(reward)\n",
    "    stx.append(np.append(observation,action))\n",
    "    sty.append(state)\n",
    "    #observation = state\n",
    "    if i%50==0: # 50 works nicely\n",
    "        \n",
    "        regressorReward.fit(rtx, rty)\n",
    "        fitrtx = regressorReward.predict(rtx)\n",
    "        mse = mean_squared_error(rty, fitrtx)\n",
    "        plotr.append(mse)\n",
    "\n",
    "        \n",
    "        regressorState.fit(stx, sty)\n",
    "        fitstx = regressorState.predict(stx)\n",
    "        mse = mean_squared_error(sty, fitstx)\n",
    "\n",
    "        plots.append(mse)\n",
    "\n",
    "print(\"...done\")\n",
    "plt.figure(0)\n",
    "plt.plot(plotr, label=\"Loss for reward fitting\")\n",
    "\n",
    "plt.plot(plots, label=\"Loss for state fitting\")\n",
    "plt.legend()\n",
    "print(regressorReward)"
   ]
  },
  {
   "cell_type": "code",
   "execution_count": 16,
   "metadata": {},
   "outputs": [],
   "source": [
    "\"\"\"\n",
    "    Discretization\n",
    "    \n",
    "    We translate the state from [-1, 1] [-1, 1] [-8, 8]\n",
    "    to [0, 2] [0, 2] [0, 16]\n",
    "    \n",
    "    We translate the actions from [-2, 2] to [0, 4]\n",
    "    \n",
    "    Then we round the input with variable number of decimal places\n",
    "    and multiply by 10 to the power of this number\n",
    "    to make sure we get only positive integers\n",
    "    \n",
    "\"\"\"\n",
    "\n",
    "def discretization(state_action, x, decimal_number):\n",
    "    if state_action==\"state\":\n",
    "        positive_s = [x[0]+1, x[1]+1, x[2]+8]\n",
    "        rounded_s = np.around(positive_s, decimals=decimal_number)\n",
    "        int_s = rounded_s * (10**decimal_number)\n",
    "        int_s = np.array([int(int_s[0]), int(int_s[1]), int(int_s[2])])\n",
    "        return int_s\n",
    "    if state_action==\"action\":\n",
    "        positive_a = x + 2\n",
    "        rounded_a = np.around(positive_a, decimals=decimal_number)\n",
    "        int_a = int(rounded_a * (10**decimal_number))\n",
    "        return int_a\n",
    "    else:\n",
    "        print(\"Unknown discretization\")\n",
    "        return -1"
   ]
  },
  {
   "cell_type": "code",
   "execution_count": 17,
   "metadata": {},
   "outputs": [
    {
     "data": {
      "text/plain": [
       "'\\n   Value Iteration\\n   \\n'"
      ]
     },
     "execution_count": 17,
     "metadata": {},
     "output_type": "execute_result"
    }
   ],
   "source": [
    "\"\"\"\n",
    "   Value Iteration\n",
    "   \n",
    "\"\"\""
   ]
  },
  {
   "cell_type": "code",
   "execution_count": null,
   "metadata": {},
   "outputs": [],
   "source": [
    "\"\"\"\n",
    "    Policy Iteration\n",
    "    \n",
    "    Gives convergence towards the optimal policy by iteratively\n",
    "    performing Policy Evaluation and Policy Improvement\n",
    "\n",
    "\"\"\""
   ]
  },
  {
   "cell_type": "code",
   "execution_count": 20,
   "metadata": {},
   "outputs": [
    {
     "name": "stdout",
     "output_type": "stream",
     "text": [
      "Old state:  [  5 133 772]\n",
      "Action:  239\n",
      "Predicted reward:  [-7.91139799]\n",
      "Observed reward:  -7.903636283607093\n",
      "Predicted next state:  [  4 129 844]\n",
      "Observed next state:  [  5 132 802]\n",
      "\n",
      "Old state:  [  5 132 802]\n",
      "Action:  269\n",
      "Predicted reward:  [-8.02067978]\n",
      "Observed reward:  -7.9037670751279325\n",
      "Predicted next state:  [  3 126 874]\n",
      "Observed next state:  [  5 131 836]\n",
      "\n",
      "Old state:  [  5 131 836]\n",
      "Action:  173\n",
      "Predicted reward:  [-8.18136074]\n",
      "Observed reward:  -8.022289535131966\n",
      "Predicted next state:  [  4 126 874]\n",
      "Observed next state:  [  4 128 856]\n",
      "\n",
      "Old state:  [  4 128 856]\n",
      "Action:  368\n",
      "Predicted reward:  [-8.53087037]\n",
      "Observed reward:  -8.202790828414068\n",
      "Predicted next state:  [  2 118 928]\n",
      "Observed next state:  [  3 123 902]\n",
      "\n",
      "Old state:  [  3 123 902]\n",
      "Action:  68\n",
      "Predicted reward:  [-8.83865359]\n",
      "Observed reward:  -8.570493112579983\n",
      "Predicted next state:  [  1 113 886]\n",
      "Observed next state:  [  2 118 900]\n",
      "\n",
      "Old state:  [  2 118 900]\n",
      "Action:  5\n",
      "Predicted reward:  [-9.07241546]\n",
      "Observed reward:  -8.860715379018579\n",
      "Predicted next state:  [  1 110 873]\n",
      "Observed next state:  [  1 113 884]\n",
      "\n",
      "Old state:  [  1 113 884]\n",
      "Action:  336\n",
      "Predicted reward:  [-9.3990457]\n",
      "Observed reward:  -9.08087837544812\n",
      "Predicted next state:  [  0 102 922]\n",
      "Observed next state:  [  0 108 915]\n",
      "\n",
      "Old state:  [  0 108 915]\n",
      "Action:  158\n",
      "Predicted reward:  [-9.78794029]\n",
      "Observed reward:  -9.489692813531713\n",
      "Predicted next state:  [  0  99 881]\n",
      "Observed next state:  [  0 103 915]\n",
      "\n",
      "Old state:  [  0 103 915]\n",
      "Action:  332\n",
      "Predicted reward:  [-9.67306751]\n",
      "Observed reward:  -9.846449750494697\n",
      "Predicted next state:  [  1  87 908]\n",
      "Observed next state:  [  0  96 936]\n",
      "\n",
      "Old state:  [  0  96 936]\n",
      "Action:  398\n",
      "Predicted reward:  [-9.16269717]\n",
      "Observed reward:  -9.790748791406608\n",
      "Predicted next state:  [  2  82 901]\n",
      "Observed next state:  [  1  88 963]\n",
      "\n"
     ]
    }
   ],
   "source": [
    "\"\"\"\n",
    "    Some stuff to see the predictions and discretization in action\n",
    "\n",
    "\"\"\"\n",
    "state = env.reset()\n",
    "\n",
    "for _ in range(10):\n",
    "    #env.render()\n",
    "    print(\"Old state: \", discretization(\"state\", state, 2))\n",
    "    action = env.action_space.sample()\n",
    "    print(\"Action: \", discretization(\"action\", action, 2))\n",
    "    state, reward, done, info = env.step(action)\n",
    "    x = np.append(state,action)\n",
    "    x = x.reshape(1,-1)\n",
    "    print(\"Predicted reward: \", regressorReward.predict(x))\n",
    "    print(\"Observed reward: \", reward)\n",
    "    print(\"Predicted next state: \", discretization(\"state\", regressorState.predict(x).T, 2))\n",
    "    print(\"Observed next state: \", discretization(\"state\", state, 2))\n",
    "    print()\n",
    "\n",
    "env.close()"
   ]
  },
  {
   "cell_type": "code",
   "execution_count": null,
   "metadata": {},
   "outputs": [],
   "source": []
  },
  {
   "cell_type": "code",
   "execution_count": null,
   "metadata": {},
   "outputs": [],
   "source": []
  }
 ],
 "metadata": {
  "kernelspec": {
   "display_name": "Python 3",
   "language": "python",
   "name": "python3"
  },
  "language_info": {
   "codemirror_mode": {
    "name": "ipython",
    "version": 3
   },
   "file_extension": ".py",
   "mimetype": "text/x-python",
   "name": "python",
   "nbconvert_exporter": "python",
   "pygments_lexer": "ipython3",
   "version": "3.6.6"
  }
 },
 "nbformat": 4,
 "nbformat_minor": 2
}
