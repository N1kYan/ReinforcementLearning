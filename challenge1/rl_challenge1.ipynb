{
 "cells": [
  {
   "cell_type": "code",
   "execution_count": 34,
   "metadata": {},
   "outputs": [],
   "source": [
    "import numpy as np\n",
    "import gym\n",
    "import torch\n",
    "from torch.autograd import Variable\n",
    "import torch.nn.functional as F\n",
    "import time\n",
    "import matplotlib.pyplot as plt"
   ]
  },
  {
   "cell_type": "code",
   "execution_count": 35,
   "metadata": {},
   "outputs": [
    {
     "name": "stdout",
     "output_type": "stream",
     "text": [
      "[-2.]\n",
      "[-1. -1. -8.]\n"
     ]
    }
   ],
   "source": [
    "# Create gym environment\n",
    "env = gym.make('Pendulum-v0')\n",
    "env.reset()\n",
    "#action space is a Box(1,) with values between [-2,2], joint effort\n",
    "print(env.action_space.low)\n",
    "#observation space is 3d angle of pendulum cos, sin, velocity max:1,1,8; min:-1,-1,8\n",
    "print(env.observation_space.low)"
   ]
  },
  {
   "cell_type": "code",
   "execution_count": 36,
   "metadata": {},
   "outputs": [
    {
     "name": "stdout",
     "output_type": "stream",
     "text": [
      "[-0.26265531 -0.96488973  0.76414844]\n",
      "[-1.2791892]\n",
      "[-0.2699518  -0.96287384 -0.15139724] -3.4330158973920697 False {}\n"
     ]
    }
   ],
   "source": [
    "#reward formular: -(theta^2 + 0.1*theta_dt^2 + 0.001*action^2) (-16.27 is worst, 0 best)\n",
    "print(env.reset())\n",
    "a = env.action_space.sample()\n",
    "print(a)\n",
    "state, reward, done, info = env.step(a)\n",
    "print(state, reward, done, info)"
   ]
  },
  {
   "cell_type": "code",
   "execution_count": 37,
   "metadata": {},
   "outputs": [],
   "source": [
    "# Learning episodes\n",
    "epochs = 1000\n",
    "\n",
    "# Numbers of decimals for discretization\n",
    "decimals = 1"
   ]
  },
  {
   "cell_type": "code",
   "execution_count": 38,
   "metadata": {},
   "outputs": [
    {
     "name": "stdout",
     "output_type": "stream",
     "text": [
      "Regression...\n",
      "...done\n",
      "RandomForestRegressor(bootstrap=True, criterion='mse', max_depth=None,\n",
      "           max_features='auto', max_leaf_nodes=None,\n",
      "           min_impurity_decrease=0.0, min_impurity_split=None,\n",
      "           min_samples_leaf=1, min_samples_split=2,\n",
      "           min_weight_fraction_leaf=0.0, n_estimators=10, n_jobs=None,\n",
      "           oob_score=False, random_state=None, verbose=0, warm_start=False)\n"
     ]
    },
    {
     "data": {
      "image/png": "[encoded data removed]",
      "text/plain": [
       "<Figure size 432x288 with 1 Axes>"
      ]
     },
     "metadata": {
      "needs_background": "light"
     },
     "output_type": "display_data"
    }
   ],
   "source": [
    "\"\"\"\n",
    "    Regression of old state and performed action to new state and observed reward.\n",
    "\"\"\"\n",
    "\n",
    "from sklearn.gaussian_process import GaussianProcessRegressor\n",
    "from sklearn.ensemble import RandomForestRegressor\n",
    "from sklearn.metrics import mean_squared_error\n",
    "\n",
    "\n",
    "rtx = []\n",
    "rty = []\n",
    "stx = []\n",
    "sty = []\n",
    "plotr = []\n",
    "plots = []\n",
    "\n",
    "regressorReward = RandomForestRegressor(n_estimators=10, min_samples_split=2)\n",
    "regressorState = RandomForestRegressor(n_estimators=10, min_samples_split=2)\n",
    "\n",
    "old_state = env.reset()\n",
    "\n",
    "print(\"Regression...\")\n",
    "for i in range(epochs):\n",
    "    #observation = env.reset() # do we really need to call this every episode?\n",
    "    \n",
    "    action = env.action_space.sample()\n",
    "    next_state, reward, done, info = env.step(action)\n",
    "\n",
    "    rtx.append(np.append(old_state ,action))\n",
    "    rty.append(reward)\n",
    "    stx.append(np.append(old_state,action))\n",
    "    sty.append(next_state)\n",
    "    #observation = state\n",
    "    if i%50==0: # 50 works nicely\n",
    "        \n",
    "        regressorReward.fit(rtx, rty)\n",
    "        fitrtx = regressorReward.predict(rtx)\n",
    "        mse = mean_squared_error(rty, fitrtx)\n",
    "        plotr.append(mse)\n",
    "\n",
    "        \n",
    "        regressorState.fit(stx, sty)\n",
    "        fitstx = regressorState.predict(stx)\n",
    "        mse = mean_squared_error(sty, fitstx)\n",
    "\n",
    "        plots.append(mse)\n",
    "    \n",
    "    old_state = np.copy(next_state)\n",
    "\n",
    "print(\"...done\")\n",
    "plt.figure(0)\n",
    "plt.plot(plotr, label=\"Loss for reward fitting\")\n",
    "\n",
    "plt.plot(plots, label=\"Loss for state fitting\")\n",
    "plt.legend()\n",
    "print(regressorReward)"
   ]
  },
  {
   "cell_type": "code",
   "execution_count": 39,
   "metadata": {},
   "outputs": [],
   "source": [
    "\"\"\"\n",
    "    Discretization\n",
    "    \n",
    "    We translate the state from [-1, 1] [-1, 1] [-8, 8]\n",
    "    to [0, 2] [0, 2] [0, 16]\n",
    "    \n",
    "    We translate the actions from [-2, 2] to [0, 4]\n",
    "    \n",
    "    Then we round the input with variable number of decimal places\n",
    "    and multiply by 10 to the power of this number\n",
    "    to make sure we get only positive integers\n",
    "    \n",
    "\"\"\"\n",
    "\n",
    "def discretization(state_action, x, decimal_number):\n",
    "    if state_action==\"state\":\n",
    "        s = [x[0]+1, x[1]+1, x[2]+8]\n",
    "        s = np.array([int(c*(10**decimal_number)) for c in s])\n",
    "        return s\n",
    "    if state_action==\"action\":\n",
    "        a = x + 2\n",
    "        a = [int(c*(10**decimal_number)) for c in a]\n",
    "        return a\n",
    "    else:\n",
    "        print(\"Unknown discretization\")\n",
    "        return -1\n"
   ]
  },
  {
   "cell_type": "code",
   "execution_count": 40,
   "metadata": {},
   "outputs": [
    {
     "data": {
      "text/plain": [
       "array([ 96, 199, 894])"
      ]
     },
     "execution_count": 40,
     "metadata": {},
     "output_type": "execute_result"
    }
   ],
   "source": [
    "discretization(\"state\",[-0.03596892, 0.99769096, 0.94654325],2)"
   ]
  },
  {
   "cell_type": "code",
   "execution_count": 41,
   "metadata": {},
   "outputs": [
    {
     "data": {
      "text/plain": [
       "'\\n   Value Iteration\\n   \\n'"
      ]
     },
     "execution_count": 41,
     "metadata": {},
     "output_type": "execute_result"
    }
   ],
   "source": [
    "\"\"\"\n",
    "   Value Iteration\n",
    "   \n",
    "\"\"\""
   ]
  },
  {
   "cell_type": "code",
   "execution_count": null,
   "metadata": {},
   "outputs": [],
   "source": [
    "\"\"\"\n",
    "    Policy Iteration\n",
    "    \n",
    "    Gives convergence towards the optimal policy by iteratively\n",
    "    performing Policy Evaluation and Policy Improvement\n",
    "\n",
    "\"\"\"\n",
    "\n",
    "def policy_iteration(theta, gamma):\n",
    "    \n",
    "    # Determine size of value function and policy lookup table\n",
    "    state_space_size = (2*(10**decimals), 2*(10**decimals), 16*(10**decimals))\n",
    "    \n",
    "    # Initialize value function and policy arbitrarily\n",
    "    value_function = np.ones(shape=state_space_size)\n",
    "    policy = np.ones(shape=state_space_size)\n",
    "    \n",
    "    print(\"Policy iteration...\")\n",
    "    \n",
    "    def policy_evaluation(theta, gamma):\n",
    "        print()\n",
    "        print(\"Evaluating policy\")\n",
    "        delta = theta\n",
    "        while delta >= theta:\n",
    "            delta = 0\n",
    "            for s0 in range(state_space_size[0]):\n",
    "                for s1 in range(state_space_size[1]):\n",
    "                    for s2 in range(state_space_size[2]):\n",
    "                        v = value_function[s0, s1, s2]\n",
    "                        \n",
    "                        \"\"\"\n",
    "                         V(s) = Sum...p(s',r|s,pi(s))[r+gamma*V(s')]\n",
    "                         \n",
    "                        \"\"\"\n",
    "                        a = policy[s0, s1, s2]\n",
    "                        # Maybe inefficient to iterate over all dimensions of s\n",
    "                        # and then glue it back together\n",
    "                        x = np.array([s0, s1, s2, a])\n",
    "                        x = x.reshape(1,-1)\n",
    "                        next_s = regressorState.predict(x).T\n",
    "                        next_s = discretization(\"state\", next_s, decimals)\n",
    "                        r = regressorReward.predict(x)\n",
    "                        value_function[s0, s1, s2] = r + gamma*value_function[next_s[0], next_s[1], next_s[2]]\n",
    "                        \n",
    "                        \n",
    "                        delta = max(delta, v - value_function[s0, s1, s2])\n",
    "            print(\"Delta: \", delta)\n",
    "    \n",
    "    \n",
    "    def policy_improvement(gamma):\n",
    "        print()\n",
    "        print(\"Improving policy\")\n",
    "        policy_stable = True\n",
    "        for s0 in range(state_space_size[0]):\n",
    "                for s1 in range(state_space_size[1]):\n",
    "                    for s2 in range(state_space_size[2]):\n",
    "                        old_action = policy[s0, s1, s2]\n",
    "                        \n",
    "                        \"\"\"\n",
    "                            pi(s) = argmax_a ... \n",
    "                            We do not have to care about the prob. distribution,\n",
    "                            as we have a deterministic env.\n",
    "                            \n",
    "                        \"\"\"\n",
    "                        # Iterate over all actions and get the one with max. expected reward\n",
    "                        amax = 2\n",
    "                        rmax = -100\n",
    "                        for a in np.arange(0,4*(10**decimals)):\n",
    "                            x = np.array([s0, s1, s2, a])\n",
    "                            x = x.reshape(1,-1)\n",
    "                            next_s = regressorState.predict(x).T\n",
    "                            next_s = discretization(\"state\", next_s, decimals)\n",
    "                            r = regressorReward.predict(x)\n",
    "                            expected_reward = r + gamma*value_function[next_s[0], next_s[1], next_s[2]]\n",
    "                            if rmax < expected_reward:\n",
    "                                amax = a\n",
    "                                rmax = expected_reward \n",
    "                        policy[s0, s1, s2] = amax # TODO\n",
    "                        \n",
    "                        if old_action != policy[s0, s1, s2]:\n",
    "                            policy_stable = False\n",
    "                            \n",
    "        print(\"Policy stable: \", policy_stable)\n",
    "        return policy_stable\n",
    "        \n",
    "    # Run until policy is stable\n",
    "    stable_policy = False\n",
    "    while not stable_policy:\n",
    "        policy_evaluation(theta, gamma)\n",
    "        stable_policy = policy_improvement(gamma)\n",
    "    \n",
    "    print()\n",
    "    print(\"...done\")\n",
    "    return value_function, policy\n",
    "    \n",
    "policy_iteration(theta=0.5, gamma=0.1)\n"
   ]
  },
  {
   "cell_type": "code",
   "execution_count": null,
   "metadata": {},
   "outputs": [],
   "source": [
    "\"\"\"\n",
    "    Some stuff to see the predictions and discretization in action\n",
    "\n",
    "\"\"\"\n",
    "state = env.reset()\n",
    "\n",
    "for _ in range(10):\n",
    "    #env.render()\n",
    "    print(\"Old state: \", discretization(\"state\", state, decimals))\n",
    "    action = env.action_space.sample()\n",
    "    print(\"Action: \", discretization(\"action\", action, decimals))\n",
    "    state, reward, done, info = env.step(action)\n",
    "    x = np.append(state,action)\n",
    "    x = x.reshape(1,-1)\n",
    "    print(\"Predicted reward: \", regressorReward.predict(x))\n",
    "    print(\"Observed reward: \", reward)\n",
    "    print(\"Predicted next state: \", discretization(\"state\", regressorState.predict(x).T, decimals))\n",
    "    print(\"Observed next state: \", discretization(\"state\", state, decimals))\n",
    "    print()\n",
    "\n",
    "env.close()"
   ]
  },
  {
   "cell_type": "code",
   "execution_count": null,
   "metadata": {},
   "outputs": [],
   "source": []
  },
  {
   "cell_type": "code",
   "execution_count": null,
   "metadata": {},
   "outputs": [],
   "source": []
  }
 ],
 "metadata": {
  "kernelspec": {
   "display_name": "Python 3",
   "language": "python",
   "name": "python3"
  },
  "language_info": {
   "codemirror_mode": {
    "name": "ipython",
    "version": 3
   },
   "file_extension": ".py",
   "mimetype": "text/x-python",
   "name": "python",
   "nbconvert_exporter": "python",
   "pygments_lexer": "ipython3",
   "version": "3.6.6"
  }
 },
 "nbformat": 4,
 "nbformat_minor": 2
}
