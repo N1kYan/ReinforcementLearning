{
 "cells": [
  {
   "cell_type": "code",
   "execution_count": 1,
   "metadata": {},
   "outputs": [],
   "source": [
    "import numpy as np\n",
    "import gym\n",
    "import torch\n",
    "from torch.autograd import Variable\n",
    "import torch.nn.functional as F\n",
    "import time\n",
    "import matplotlib.pyplot as plt"
   ]
  },
  {
   "cell_type": "code",
   "execution_count": 2,
   "metadata": {},
   "outputs": [
    {
     "name": "stdout",
     "output_type": "stream",
     "text": [
      "\u001b[33mWARN: gym.spaces.Box autodetected dtype as <class 'numpy.float32'>. Please provide explicit dtype.\u001b[0m\n",
      "\u001b[33mWARN: gym.spaces.Box autodetected dtype as <class 'numpy.float32'>. Please provide explicit dtype.\u001b[0m\n",
      "[-2.]\n",
      "[-1. -1. -8.]\n"
     ]
    }
   ],
   "source": [
    "# Create gym environment\n",
    "env = gym.make('Pendulum-v0')\n",
    "env.reset()\n",
    "#action space is a Box(1,) with values between [-2,2], joint effort\n",
    "print(env.action_space.low)\n",
    "#observation space is 3d angle of pendulum cos, sin, velocity max:1,1,8; min:-1,-1,8\n",
    "print(env.observation_space.low)"
   ]
  },
  {
   "cell_type": "code",
   "execution_count": 3,
   "metadata": {},
   "outputs": [
    {
     "name": "stdout",
     "output_type": "stream",
     "text": [
      "[-0.84232201 -0.53897462 -0.68697714]\n",
      "[0.19525401]\n",
      "[-0.86973891 -0.49351214 -1.06192   ] -6.664336522944153 False {}\n"
     ]
    }
   ],
   "source": [
    "#reward formular: -(theta^2 + 0.1*theta_dt^2 + 0.001*action^2) (-16.27 is worst, 0 best)\n",
    "print(env.reset())\n",
    "a = env.action_space.sample()\n",
    "print(a)\n",
    "state, reward, done, info = env.step(a)\n",
    "print(state, reward, done, info)"
   ]
  },
  {
   "cell_type": "code",
   "execution_count": 12,
   "metadata": {},
   "outputs": [],
   "source": [
    "# Learning episodes\n",
    "epochs = 10000\n",
    "\n",
    "# Numbers of decimals for discretization\n",
    "decimals = 2"
   ]
  },
  {
   "cell_type": "code",
   "execution_count": 5,
   "metadata": {},
   "outputs": [
    {
     "name": "stdout",
     "output_type": "stream",
     "text": [
      "Regression...\n",
      "...done\n",
      "RandomForestRegressor(bootstrap=True, criterion='mse', max_depth=None,\n",
      "           max_features='auto', max_leaf_nodes=None,\n",
      "           min_impurity_decrease=0.0, min_impurity_split=None,\n",
      "           min_samples_leaf=1, min_samples_split=2,\n",
      "           min_weight_fraction_leaf=0.0, n_estimators=10, n_jobs=None,\n",
      "           oob_score=False, random_state=None, verbose=0, warm_start=False)\n"
     ]
    },
    {
     "data": {
      "image/png": "[encoded data removed]",
      "text/plain": [
       "<Figure size 432x288 with 1 Axes>"
      ]
     },
     "metadata": {
      "needs_background": "light"
     },
     "output_type": "display_data"
    }
   ],
   "source": [
    "\"\"\"\n",
    "    Regression of old state and performed action to new state and observed reward.\n",
    "\"\"\"\n",
    "\n",
    "from sklearn.gaussian_process import GaussianProcessRegressor\n",
    "from sklearn.ensemble import RandomForestRegressor\n",
    "from sklearn.metrics import mean_squared_error\n",
    "\n",
    "\n",
    "rtx = []\n",
    "rty = []\n",
    "stx = []\n",
    "sty = []\n",
    "plotr = []\n",
    "plots = []\n",
    "\n",
    "regressorReward = RandomForestRegressor(n_estimators=10, min_samples_split=2)\n",
    "regressorState = RandomForestRegressor(n_estimators=10, min_samples_split=2)\n",
    "\n",
    "old_state = env.reset()\n",
    "\n",
    "print(\"Regression...\")\n",
    "for i in range(epochs):\n",
    "    #observation = env.reset() # do we really need to call this every episode?\n",
    "    \n",
    "    action = env.action_space.sample()\n",
    "    next_state, reward, done, info = env.step(action)\n",
    "\n",
    "    rtx.append(np.append(old_state ,action))\n",
    "    rty.append(reward)\n",
    "    stx.append(np.append(old_state,action))\n",
    "    sty.append(next_state)\n",
    "    #observation = state\n",
    "    if i%50==0: # 50 works nicely\n",
    "        \n",
    "        regressorReward.fit(rtx, rty)\n",
    "        fitrtx = regressorReward.predict(rtx)\n",
    "        mse = mean_squared_error(rty, fitrtx)\n",
    "        plotr.append(mse)\n",
    "\n",
    "        \n",
    "        regressorState.fit(stx, sty)\n",
    "        fitstx = regressorState.predict(stx)\n",
    "        mse = mean_squared_error(sty, fitstx)\n",
    "\n",
    "        plots.append(mse)\n",
    "    \n",
    "    old_state = np.copy(next_state)\n",
    "\n",
    "print(\"...done\")\n",
    "plt.figure(0)\n",
    "plt.plot(plotr, label=\"Loss for reward fitting\")\n",
    "\n",
    "plt.plot(plots, label=\"Loss for state fitting\")\n",
    "plt.legend()\n",
    "print(regressorReward)"
   ]
  },
  {
   "cell_type": "code",
   "execution_count": 6,
   "metadata": {},
   "outputs": [],
   "source": [
    "\"\"\"\n",
    "    Discretization\n",
    "    \n",
    "    We translate the state from [-1, 1] [-1, 1] [-8, 8]\n",
    "    to [0, 2] [0, 2] [0, 16]\n",
    "    \n",
    "    We translate the actions from [-2, 2] to [0, 4]\n",
    "    \n",
    "    Then we round the input with variable number of decimal places\n",
    "    and multiply by 10 to the power of this number\n",
    "    to make sure we get only positive integers\n",
    "    \n",
    "\"\"\"\n",
    "\n",
    "def discretization(state_action, x, decimal_number):\n",
    "    if state_action==\"state\":\n",
    "        positive_s = [x[0]+1, x[1]+1, x[2]+8]\n",
    "        rounded_s = np.around(positive_s, decimals=decimal_number)\n",
    "        int_s = rounded_s * (10**decimal_number)\n",
    "        int_s = np.array([int(int_s[0]), int(int_s[1]), int(int_s[2])])\n",
    "        return int_s\n",
    "    if state_action==\"action\":\n",
    "        positive_a = x + 2\n",
    "        rounded_a = np.around(positive_a, decimals=decimal_number)\n",
    "        int_a = int(rounded_a * (10**decimal_number))\n",
    "        return int_a\n",
    "    else:\n",
    "        print(\"Unknown discretization\")\n",
    "        return -1"
   ]
  },
  {
   "cell_type": "code",
   "execution_count": 7,
   "metadata": {},
   "outputs": [
    {
     "data": {
      "text/plain": [
       "'\\n   Value Iteration\\n   \\n'"
      ]
     },
     "execution_count": 7,
     "metadata": {},
     "output_type": "execute_result"
    }
   ],
   "source": [
    "\"\"\"\n",
    "   Value Iteration\n",
    "   \n",
    "\"\"\""
   ]
  },
  {
   "cell_type": "code",
   "execution_count": null,
   "metadata": {},
   "outputs": [
    {
     "name": "stdout",
     "output_type": "stream",
     "text": [
      "Policy iteration...\n",
      "Evaluating policy\n"
     ]
    }
   ],
   "source": [
    "\"\"\"\n",
    "    Policy Iteration\n",
    "    \n",
    "    Gives convergence towards the optimal policy by iteratively\n",
    "    performing Policy Evaluation and Policy Improvement\n",
    "\n",
    "\"\"\"\n",
    "\n",
    "def policy_iteration(theta):\n",
    "    \n",
    "    # Determine size of value function and policy lookup table\n",
    "    state_space_size = (2*(10**decimals), 2*(10**decimals), 16*(10**decimals))\n",
    "    \n",
    "    # Initialize value function and policy arbitrarily\n",
    "    value_function = np.ones(shape=state_space_size)\n",
    "    policy = np.ones(shape=state_space_size)\n",
    "    \n",
    "    print (\"Policy iteration...\")\n",
    "    \n",
    "    def policy_evaluation(theta):\n",
    "        print(\"Evaluating policy\")\n",
    "        delta = theta\n",
    "        while delta >= theta:\n",
    "            delta = 0\n",
    "            for s0 in range(state_space_size[0]):\n",
    "                for s1 in range(state_space_size[1]):\n",
    "                    for s2 in range(state_space_size[2]):\n",
    "                        v = value_function[s0, s1, s2]\n",
    "                        value_function[s0, s1, s2] = 0 # TODO\n",
    "                        delta = max(delta, v - value_function[s0, s1, s2])\n",
    "    \n",
    "    \n",
    "    def policy_improvement():\n",
    "        print(\"Improving policy\")\n",
    "        policy_stable = true\n",
    "        for s0 in range(state_space_size[0]):\n",
    "                for s1 in range(state_space_size[1]):\n",
    "                    for s2 in range(state_space_size[2]):\n",
    "                        old_action = policy[s0, s1, s2]\n",
    "                        policy[s0, s1, s2] = 0 # TODO\n",
    "                        if old_action != policy[s0, s1, s2]:\n",
    "                            policy_stable = false\n",
    "        if policy_stable:\n",
    "            return 1\n",
    "        else:\n",
    "            return 0\n",
    "        \n",
    "    # Run until policy is stable\n",
    "    stable_policy = 0\n",
    "    while stable_policy == 0:\n",
    "        policy_evaluation(theta)\n",
    "        stable_policy = policy_improvement()\n",
    "            \n",
    "    print(\"...done\")\n",
    "    return value_function, policy\n",
    "    \n",
    "policy_iteration(theta=0.1)\n"
   ]
  },
  {
   "cell_type": "code",
   "execution_count": 10,
   "metadata": {},
   "outputs": [
    {
     "name": "stdout",
     "output_type": "stream",
     "text": [
      "Old state:  [142   9 807]\n",
      "Action:  15\n",
      "Predicted reward:  [-1.49330717]\n",
      "Observed reward:  -1.307384263808462\n",
      "Predicted next state:  [135   7 631]\n",
      "Observed next state:  [138   7 711]\n",
      "\n",
      "Old state:  [138   7 711]\n",
      "Action:  5\n",
      "Predicted reward:  [-1.97142497]\n",
      "Observed reward:  -1.4897456601933659\n",
      "Predicted next state:  [121   2 522]\n",
      "Observed next state:  [129   4 612]\n",
      "\n",
      "Old state:  [129   4 612]\n",
      "Action:  399\n",
      "Predicted reward:  [-2.55359743]\n",
      "Observed reward:  -1.994619384197326\n",
      "Predicted next state:  [106   1 498]\n",
      "Observed next state:  [118   2 570]\n",
      "\n",
      "Old state:  [118   2 570]\n",
      "Action:  195\n",
      "Predicted reward:  [-3.37125706]\n",
      "Observed reward:  -2.4736399569867635\n",
      "Predicted next state:  [ 84   1 415]\n",
      "Observed next state:  [102   0 496]\n",
      "\n",
      "Old state:  [102   0 496]\n",
      "Action:  149\n",
      "Predicted reward:  [-4.49621578]\n",
      "Observed reward:  -3.3197227886341683\n",
      "Predicted next state:  [ 62   8 326]\n",
      "Observed next state:  [ 83   1 413]\n",
      "\n",
      "Old state:  [ 83   1 413]\n",
      "Action:  78\n",
      "Predicted reward:  [-6.41054786]\n",
      "Observed reward:  -4.528468876644929\n",
      "Predicted next state:  [ 37  22 256]\n",
      "Observed next state:  [ 60   8 321]\n",
      "\n",
      "Old state:  [ 60   8 321]\n",
      "Action:  323\n",
      "Predicted reward:  [-7.79524395]\n",
      "Observed reward:  -6.217984080637879\n",
      "Predicted next state:  [ 17  45 221]\n",
      "Observed next state:  [ 38  22 270]\n",
      "\n",
      "Old state:  [ 38  22 270]\n",
      "Action:  282\n",
      "Predicted reward:  [-9.77893727]\n",
      "Observed reward:  -7.843809912584552\n",
      "Predicted next state:  [  5  70 186]\n",
      "Observed next state:  [ 18  43 224]\n",
      "\n",
      "Old state:  [ 18  43 224]\n",
      "Action:  1\n",
      "Predicted reward:  [-12.37874515]\n",
      "Observed reward:  -9.733687708295212\n",
      "Predicted next state:  [  1 109 112]\n",
      "Observed next state:  [  4  72 151]\n",
      "\n",
      "Old state:  [  4  72 151]\n",
      "Action:  308\n",
      "Predicted reward:  [-13.89426944]\n",
      "Observed reward:  -12.370007073234241\n",
      "Predicted next state:  [  6 135 162]\n",
      "Observed next state:  [  0 104 147]\n",
      "\n"
     ]
    }
   ],
   "source": [
    "\"\"\"\n",
    "    Some stuff to see the predictions and discretization in action\n",
    "\n",
    "\"\"\"\n",
    "state = env.reset()\n",
    "\n",
    "for _ in range(10):\n",
    "    #env.render()\n",
    "    print(\"Old state: \", discretization(\"state\", state, decimals))\n",
    "    action = env.action_space.sample()\n",
    "    print(\"Action: \", discretization(\"action\", action, decimals))\n",
    "    state, reward, done, info = env.step(action)\n",
    "    x = np.append(state,action)\n",
    "    x = x.reshape(1,-1)\n",
    "    print(\"Predicted reward: \", regressorReward.predict(x))\n",
    "    print(\"Observed reward: \", reward)\n",
    "    print(\"Predicted next state: \", discretization(\"state\", regressorState.predict(x).T, decimals))\n",
    "    print(\"Observed next state: \", discretization(\"state\", state, decimals))\n",
    "    print()\n",
    "\n",
    "env.close()"
   ]
  },
  {
   "cell_type": "code",
   "execution_count": null,
   "metadata": {},
   "outputs": [],
   "source": []
  },
  {
   "cell_type": "code",
   "execution_count": null,
   "metadata": {},
   "outputs": [],
   "source": []
  }
 ],
 "metadata": {
  "kernelspec": {
   "display_name": "Python 3",
   "language": "python",
   "name": "python3"
  },
  "language_info": {
   "codemirror_mode": {
    "name": "ipython",
    "version": 3
   },
   "file_extension": ".py",
   "mimetype": "text/x-python",
   "name": "python",
   "nbconvert_exporter": "python",
   "pygments_lexer": "ipython3",
   "version": "3.6.7"
  }
 },
 "nbformat": 4,
 "nbformat_minor": 2
}
