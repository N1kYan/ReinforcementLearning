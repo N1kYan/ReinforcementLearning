{
 "cells": [
  {
   "cell_type": "code",
   "execution_count": 181,
   "metadata": {},
   "outputs": [],
   "source": [
    "import numpy as np\n",
    "import gym\n",
    "import torch\n",
    "from torch.autograd import Variable\n",
    "import time\n",
    "import matplotlib.pyplot as plt"
   ]
  },
  {
   "cell_type": "code",
   "execution_count": 182,
   "metadata": {},
   "outputs": [
    {
     "data": {
      "text/plain": [
       "array([ 0.98261175, -0.18567215, -0.15130556])"
      ]
     },
     "execution_count": 182,
     "metadata": {},
     "output_type": "execute_result"
    }
   ],
   "source": [
    "# Create gym environment\n",
    "env = gym.make('Pendulum-v0')\n",
    "env.reset()"
   ]
  },
  {
   "cell_type": "code",
   "execution_count": 183,
   "metadata": {},
   "outputs": [],
   "source": [
    "# Neural network model for transition dynamics\n",
    "# Learns regression from state and action to resulting state and reward\n",
    "class ControlNet(torch.nn.Module):\n",
    "    def __init__(self, input_dim, hidden_dim, output_dim):\n",
    "        super(ControlNet, self).__init__()\n",
    "        self.input_linear = torch.nn.Linear(input_dim, hidden_dim)\n",
    "        self.middle_linear = torch.nn.Linear(hidden_dim, hidden_dim)\n",
    "        self.output_linear = torch.nn.Linear(hidden_dim, output_dim)\n",
    "    def forward(self, x):\n",
    "        # Coppied, replace with own code or understand\n",
    "        # Link: https://pytorch.org/tutorials/beginner/examples_nn/dynamic_net.html\n",
    "        h_relu = self.input_linear(x).clamp(min=0)\n",
    "        for _ in range(np.random.randint(0, 3)):\n",
    "            h_relu = self.middle_linear(h_relu).clamp(min=0)\n",
    "        output_pred = self.output_linear(h_relu)\n",
    "        return output_pred"
   ]
  },
  {
   "cell_type": "code",
   "execution_count": 184,
   "metadata": {},
   "outputs": [],
   "source": [
    "# Batch size, input dimension, hidden dimension, output dimension\n",
    "n, d_in, d_hid, d_out = 1, 4, 16, 4\n",
    "# Create tensors to hold inputs and outputs\n",
    "# Initialized randomly\n",
    "net_input = torch.randn(n, d_in)\n",
    "net_output = torch.randn(n, d_out)\n",
    "true_output = torch.randn(n, d_out) \n",
    "# Instance of nn model\n",
    "model = ControlNet(d_in, d_hid, d_out).double()\n",
    "# Criterion for optimisation: Mean Squared Loss\n",
    "criterion = torch.nn.MSELoss(reduction='sum') # reduction sum???\n",
    "# Learning rate for nn\n",
    "l_rate = 0.01\n",
    "# Optimizer: Stochastic Gradient Descent\n",
    "optimizer = torch.optim.SGD(model.parameters(), lr=l_rate, momentum=0.9)\n",
    "# Learning episodes\n",
    "epochs = 100"
   ]
  },
  {
   "cell_type": "code",
   "execution_count": 185,
   "metadata": {},
   "outputs": [],
   "source": [
    "# Policy: Random action\n",
    "def policy(s):\n",
    "    a = env.action_space.sample()\n",
    "    return a"
   ]
  },
  {
   "cell_type": "code",
   "execution_count": 186,
   "metadata": {
    "scrolled": true
   },
   "outputs": [
    {
     "data": {
      "image/png": "[encoded data removed]",
      "text/plain": [
       "<Figure size 432x288 with 1 Axes>"
      ]
     },
     "metadata": {
      "needs_background": "light"
     },
     "output_type": "display_data"
    }
   ],
   "source": [
    "# Training the model\n",
    "state = env.reset()\n",
    "loss_per_episode = []\n",
    "\n",
    "for epoch in range(epochs):\n",
    "    # Increase epoch counter\n",
    "    epoch += 1\n",
    "    # Render gym environment\n",
    "    # env.render()\n",
    "    # Select action according to policy\n",
    "    action = policy(state)\n",
    "    # Observations\n",
    "    old_state = state\n",
    "    state, reward, done, info = env.step(action)\n",
    "    \n",
    "    # Define tensors holding data\n",
    "    x = Variable(torch.from_numpy(np.array([old_state[0], old_state[1], old_state[2], action])), requires_grad=True)\n",
    "    y = model.forward(x)\n",
    "    true_y = Variable(torch.from_numpy(np.array([state[0], state[1], state[2], reward])), requires_grad=True)\n",
    "    \n",
    "    \n",
    "    # Prints\n",
    "    #print(\"net input tensor: {} with shape {}\".format(net_input,net_input.dim))\n",
    "    \n",
    "    # Compute loss\n",
    "    loss = Variable(criterion(true_y, y), requires_grad=True)\n",
    "    loss_per_episode.append(loss)\n",
    "    \n",
    "    # Clear gradients, backpropagation and weight update\n",
    "    optimizer.zero_grad()\n",
    "    loss.backward()\n",
    "    optimizer.step()\n",
    "    \n",
    "    \n",
    "\n",
    "env.close()\n",
    "# Plot loss\n",
    "plt.figure()\n",
    "plt.plot(loss_per_episode, label=\"Loss per Episode\")\n",
    "plt.legend()\n",
    "plt.show()"
   ]
  },
  {
   "cell_type": "code",
   "execution_count": null,
   "metadata": {},
   "outputs": [],
   "source": []
  }
 ],
 "metadata": {
  "kernelspec": {
   "display_name": "Python 3",
   "language": "python",
   "name": "python3"
  },
  "language_info": {
   "codemirror_mode": {
    "name": "ipython",
    "version": 3
   },
   "file_extension": ".py",
   "mimetype": "text/x-python",
   "name": "python",
   "nbconvert_exporter": "python",
   "pygments_lexer": "ipython3",
   "version": "3.6.6"
  }
 },
 "nbformat": 4,
 "nbformat_minor": 2
}
